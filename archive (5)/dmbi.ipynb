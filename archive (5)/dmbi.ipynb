{
 "cells": [
  {
   "cell_type": "code",
   "execution_count": 1,
   "id": "19ee5230-d965-42b0-8ca7-95e2dc0bb5a8",
   "metadata": {},
   "outputs": [],
   "source": [
    "import pandas as pd\n",
    "import numpy as np\n",
    "import matplotlib.pyplot as plt"
   ]
  },
  {
   "cell_type": "code",
   "execution_count": 2,
   "id": "71f90937-ae20-49b5-874c-900a6b388637",
   "metadata": {},
   "outputs": [],
   "source": [
    "dataset = pd.read_csv(\"Travel.csv\")\n"
   ]
  },
  {
   "cell_type": "code",
   "execution_count": 4,
   "id": "9541419f-21ad-4a28-b40a-2d06d1ce20f7",
   "metadata": {},
   "outputs": [
    {
     "name": "stdout",
     "output_type": "stream",
     "text": [
      "[1 0 1 ... 1 1 1]\n",
      "[[200000 41.0 'Self Enquiry' ... 0.0 'Manager' 20993.0]\n",
      " [200001 49.0 'Company Invited' ... 2.0 'Manager' 20130.0]\n",
      " [200002 37.0 'Self Enquiry' ... 0.0 'Executive' 17090.0]\n",
      " ...\n",
      " [204885 52.0 'Self Enquiry' ... 3.0 'Senior Manager' 31820.0]\n",
      " [204886 19.0 'Self Enquiry' ... 2.0 'Executive' 20289.0]\n",
      " [204887 36.0 'Self Enquiry' ... 2.0 'Executive' 24041.0]]\n"
     ]
    }
   ],
   "source": [
    "x= dataset.iloc[:,:-1].values\n",
    "y= dataset.iloc[:,-1].values\n",
    "print(y)\n",
    "print(x)"
   ]
  },
  {
   "cell_type": "code",
   "execution_count": 17,
   "id": "8aabc3a9-2eb0-4c44-8cc2-59a1a306387c",
   "metadata": {},
   "outputs": [
    {
     "name": "stdout",
     "output_type": "stream",
     "text": [
      "[200004 36.0 'Self Enquiry' 1 8.0 'Small Business' 'Male' 2 3.0 'Basic'\n",
      " 4.0 'Divorced' 1.0 0 5 1 0.0 'Executive' 18468.0]\n"
     ]
    }
   ],
   "source": [
    "from sklearn.impute import SimpleImputer\n",
    "imputer = SimpleImputer(missing_values=np.nan, strategy='median')\n",
    "imputer.fit(x[:,1:2])\n",
    "x[:,1:2]=imputer.transform(x[:,1:2])\n",
    "print(x[4])\n"
   ]
  },
  {
   "cell_type": "code",
   "execution_count": 19,
   "id": "0fe25987-72b4-4cc0-8c2a-ddff59e609bd",
   "metadata": {},
   "outputs": [
    {
     "name": "stdout",
     "output_type": "stream",
     "text": [
      "[201143 45.0 'Self Enquiry' 3 nan 'Small Business' 'Male' 2 4.0 'Deluxe'\n",
      " 5.0 'Married' 2.0 0 3 0 0.0 'Manager' nan]\n"
     ]
    }
   ],
   "source": [
    "imputer = SimpleImputer(missing_values=np.nan, strategy='constant',fill_value='Self Enquiry')\n",
    "imputer.fit(x[:,2:3])\n",
    "x[:,2:3]=imputer.transform(x[:,2:3])\n",
    "print(x[1143])"
   ]
  },
  {
   "cell_type": "code",
   "execution_count": 20,
   "id": "49559f49-20e0-44a9-a750-030914aca2c9",
   "metadata": {},
   "outputs": [
    {
     "name": "stdout",
     "output_type": "stream",
     "text": [
      "[201143 45.0 'Self Enquiry' 3 9.0 'Small Business' 'Male' 2 4.0 'Deluxe'\n",
      " 5.0 'Married' 2.0 0 3 0 0.0 'Manager' nan]\n"
     ]
    }
   ],
   "source": [
    "imputer = SimpleImputer(missing_values=np.nan, strategy='most_frequent')\n",
    "imputer.fit(x[:,4:5])\n",
    "x[:,4:5]=imputer.transform(x[:,4:5])\n",
    "print(x[1143])\n"
   ]
  },
  {
   "cell_type": "code",
   "execution_count": 21,
   "id": "e2beefda-974f-4706-9efd-43b405eef3e8",
   "metadata": {},
   "outputs": [
    {
     "name": "stdout",
     "output_type": "stream",
     "text": [
      "[200881 32.0 'Company Invited' 1 8.0 'Salaried' 'Female' 2 4.0 'Deluxe'\n",
      " 3.0 'Single' 5.0 1 5 1 1.0 'Manager' 19998.0]\n"
     ]
    }
   ],
   "source": [
    "imputer = SimpleImputer(missing_values=np.nan, strategy='most_frequent')\n",
    "imputer.fit(x[:,8:9])\n",
    "x[:,8:9]=imputer.transform(x[:,8:9])\n",
    "print(x[881])"
   ]
  },
  {
   "cell_type": "code",
   "execution_count": null,
   "id": "aa306ea1-fccd-4d14-bc80-a183ce008688",
   "metadata": {},
   "outputs": [],
   "source": [
    "imputer = SimpleImputer(missing_values=np.nan, strategy='most_frequent')\n",
    "imputer.fit(x[:,8:9])\n",
    "x[:,8:9]=imputer.transform(x[:,8:9])\n",
    "print(x[881])"
   ]
  }
 ],
 "metadata": {
  "kernelspec": {
   "display_name": "Python 3 (ipykernel)",
   "language": "python",
   "name": "python3"
  },
  "language_info": {
   "codemirror_mode": {
    "name": "ipython",
    "version": 3
   },
   "file_extension": ".py",
   "mimetype": "text/x-python",
   "name": "python",
   "nbconvert_exporter": "python",
   "pygments_lexer": "ipython3",
   "version": "3.10.2"
  }
 },
 "nbformat": 4,
 "nbformat_minor": 5
}
